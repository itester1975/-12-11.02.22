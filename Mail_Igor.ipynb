{
 "cells": [
  {
   "cell_type": "code",
   "execution_count": 6,
   "id": "e2d656ed",
   "metadata": {},
   "outputs": [],
   "source": [
    "class menu:\n",
    "\n",
    "    def __init__(self):\n",
    "        mn=['Главное меню:',['Регистрация:',['Логин:'],['Пароль:']],['Вход:'],['Написать:'],['Прочитать:'],['Отправить:'],['Просмотреть черновик:'],['Удалить:']]\n",
    "        user_office=[['Написать:'],['Прочитать:'],['Отправить:'],['Просмотреть черновик:'],['Удалить:'],['Выйти']] #личный кабинет\n",
    "        q={}\n",
    "        \n",
    "        self.q=q\n",
    "        self.mn=mn\n",
    "        self.user_office=user_office\n",
    "        self.registration=self.mn[1]\n",
    "        self.login=self.mn[1][1] #логин\n",
    "        self.password=self.mn[1][2] #пароль\n",
    "        self.entrance=self.mn[2] #вход\n",
    "        self.write=self.mn[3] #написать\n",
    "        self.read=self.mn[4] #прочитать\n",
    "        self.send=self.mn[5] #отправить\n",
    "        self.draft=self.mn[6] #черновик\n",
    "        self.delete=self.mn[7] #удалить\n",
    "        print('Сначало регистрация:','Ваш:',self.login,'Ваш:',self.password)\n",
    "        \n",
    "        \n",
    "    def us_registr(self,login,password):#регистрация\n",
    "        self.bdul=[] #База Данных пользователей для хранения логинов.\n",
    "        self.bdup=[] #База Данных пользователей для хранения паролей.\n",
    "        self.bdul.append(login)\n",
    "        self.bdup.append(password)\n",
    "        print('Ваш логин (',login,') и пароль (',password,') успешно зарегистрированы:',self.bdul,self.bdup,'.Войдите под своей учетной записью.')\n",
    "            \n",
    "    def us_entrance(self,login,password):#вход\n",
    "        for log in self.bdul:\n",
    "            if log==login:\n",
    "                for pas in self.bdup:\n",
    "                    if pas==password:\n",
    "                        print('Вы вошли в личный кабинет:',self.user_office)\n",
    "                else:\n",
    "                    print('Не верный логин или пароль')\n",
    "    def us_write(self,q):#написать\n",
    "        for i in range(1):\n",
    "            a = input('Напишите сообщение:')\n",
    "            self.q[a] = {}\n",
    "            b = input('Мой телефон:')\n",
    "            self.q[a]['телефон'] = b\n",
    "            c = input('Мой Mail:')\n",
    "            self.q[a]['Mail'] = c\n",
    "            print('С уважением к вам. Ваш доктор Барменталь.')\n"
   ]
  },
  {
   "cell_type": "code",
   "execution_count": 7,
   "id": "74b13d21",
   "metadata": {},
   "outputs": [
    {
     "name": "stdout",
     "output_type": "stream",
     "text": [
      "Сначало регистрация: Ваш: ['Логин:'] Ваш: ['Пароль:']\n"
     ]
    }
   ],
   "source": [
    "mail=menu()"
   ]
  },
  {
   "cell_type": "code",
   "execution_count": 8,
   "id": "52280dd0",
   "metadata": {},
   "outputs": [
    {
     "name": "stdout",
     "output_type": "stream",
     "text": [
      "Ваш логин ( Igor ) и пароль ( 1975 ) успешно зарегистрированы: ['Igor'] [1975] .Войдите под своей учетной записью.\n"
     ]
    }
   ],
   "source": [
    "mail.us_registr('Igor',1975)"
   ]
  },
  {
   "cell_type": "code",
   "execution_count": 9,
   "id": "98a9fc01",
   "metadata": {},
   "outputs": [
    {
     "name": "stdout",
     "output_type": "stream",
     "text": [
      "Вы вошли в личный кабинет: [['Написать:'], ['Прочитать:'], ['Отправить:'], ['Просмотреть черновик:'], ['Удалить:'], ['Выйти']]\n",
      "Не верный логин или пароль\n"
     ]
    }
   ],
   "source": [
    "mail.us_entrance('Igor',1975)"
   ]
  },
  {
   "cell_type": "code",
   "execution_count": 10,
   "id": "b80b9ebf",
   "metadata": {},
   "outputs": [
    {
     "name": "stdout",
     "output_type": "stream",
     "text": [
      "Не верный логин или пароль\n"
     ]
    }
   ],
   "source": [
    "mail.us_entrance('Igor',2022)"
   ]
  },
  {
   "cell_type": "code",
   "execution_count": 172,
   "id": "a5721434",
   "metadata": {
    "scrolled": true
   },
   "outputs": [
    {
     "name": "stdout",
     "output_type": "stream",
     "text": [
      "Напишите сообщение:Здравствуйте! Я ваш домашний доктор. Не бывает здоровых людей, бывают недообследованные.\n",
      "Мой телефон:89998887766\n",
      "Мой Mail:barmental@mail.ru\n",
      "С уважением к вам. Ваш доктор Барменталь.\n"
     ]
    }
   ],
   "source": [
    "mail.us_write(q)"
   ]
  },
  {
   "cell_type": "code",
   "execution_count": null,
   "id": "9668a0b5",
   "metadata": {},
   "outputs": [],
   "source": []
  },
  {
   "cell_type": "code",
   "execution_count": null,
   "id": "841c1c7f",
   "metadata": {},
   "outputs": [],
   "source": []
  }
 ],
 "metadata": {
  "kernelspec": {
   "display_name": "Python 3 (ipykernel)",
   "language": "python",
   "name": "python3"
  },
  "language_info": {
   "codemirror_mode": {
    "name": "ipython",
    "version": 3
   },
   "file_extension": ".py",
   "mimetype": "text/x-python",
   "name": "python",
   "nbconvert_exporter": "python",
   "pygments_lexer": "ipython3",
   "version": "3.9.7"
  }
 },
 "nbformat": 4,
 "nbformat_minor": 5
}
